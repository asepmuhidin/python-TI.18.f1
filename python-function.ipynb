{
 "cells": [
  {
   "cell_type": "code",
   "execution_count": 19,
   "metadata": {
    "scrolled": true
   },
   "outputs": [
    {
     "name": "stdout",
     "output_type": "stream",
     "text": [
      "Hello world\n",
      "Hello world\n",
      "Semangat pagi..\n",
      "Salam olahraga\n",
      "nilai determinan : 25\n",
      "X1= 3.0\n",
      "X2= -2.0\n",
      "5!= 120\n",
      "8!= 40320\n",
      "Kerja 4 jam = 7.5  jam lembur\n",
      "Uang lembur : 195086.70520231215\n"
     ]
    }
   ],
   "source": [
    "import math\n",
    "\n",
    "def hello():\n",
    "    print(\"Hello world\")\n",
    "\n",
    "def salam(ucapan_salam):\n",
    "    print(ucapan_salam)\n",
    "    \n",
    "hello()\n",
    "hello()\n",
    "\n",
    "salam(\"Semangat pagi..\")\n",
    "salam(\"Salam olahraga\")\n",
    "\n",
    "def det(a,b,c):\n",
    "    return b*b-(4*a*c)\n",
    "\n",
    "def x1(a,b,d):\n",
    "    return (-b+ math.sqrt(d))/(2*a) \n",
    "\n",
    "def x2(a,b,d):\n",
    "    return (-b- math.sqrt(d))/(2*a) \n",
    "\n",
    "def factorial(n):\n",
    "    hasil=1\n",
    "    for i in range(1,n+1,1):\n",
    "        hasil *=i\n",
    "    return hasil\n",
    "\n",
    "def jamLembur(jamAktual):\n",
    "    return 1.5 +((jamAktual-1)*2)\n",
    "\n",
    "def basicUangLembur(gapok):\n",
    "    return gapok/173\n",
    "\n",
    "def uangLembur(jamLembur,basicUangLembur):\n",
    "    return jamLembur*basicUangLembur\n",
    "\n",
    "d=det(1,-1,-6)\n",
    "print(\"nilai determinan :\" , d)\n",
    "x_1=x1(1,-1,d)\n",
    "x_2=x2(1,-1,d)\n",
    "print(\"X1=\", x_1)\n",
    "print(\"X2=\", x_2)\n",
    "print(\"5!=\", factorial(5))\n",
    "print(\"8!=\", factorial(8))\n",
    "print(\"Kerja 4 jam =\", jamLembur(4), \" jam lembur\")\n",
    "bLembur=basicUangLembur(4500000)\n",
    "jLembur=jamLembur(4)\n",
    "uLembur=uangLembur(jLembur,bLembur)\n",
    "print(\"Uang lembur :\", uLembur)"
   ]
  },
  {
   "cell_type": "code",
   "execution_count": null,
   "metadata": {},
   "outputs": [],
   "source": []
  }
 ],
 "metadata": {
  "kernelspec": {
   "display_name": "Python 3",
   "language": "python",
   "name": "python3"
  },
  "language_info": {
   "codemirror_mode": {
    "name": "ipython",
    "version": 3
   },
   "file_extension": ".py",
   "mimetype": "text/x-python",
   "name": "python",
   "nbconvert_exporter": "python",
   "pygments_lexer": "ipython3",
   "version": "3.6.5"
  }
 },
 "nbformat": 4,
 "nbformat_minor": 2
}
